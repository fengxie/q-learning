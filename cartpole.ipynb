{
 "cells": [
  {
   "cell_type": "code",
   "execution_count": 2,
   "metadata": {
    "collapsed": true
   },
   "outputs": [],
   "source": [
    "import tensorflow as tf\n",
    "import tensorflow.contrib.slim as slim\n",
    "import numpy as np\n",
    "import gym"
   ]
  },
  {
   "cell_type": "markdown",
   "metadata": {},
   "source": [
    "* Head"
   ]
  },
  {
   "cell_type": "code",
   "execution_count": 6,
   "metadata": {},
   "outputs": [
    {
     "data": {
      "text/plain": [
       "<tf.Tensor 'mul_1:0' shape=(2,) dtype=int32>"
      ]
     },
     "execution_count": 6,
     "metadata": {},
     "output_type": "execute_result"
    }
   ],
   "source": [
    "tf.range(0, 2) * 4"
   ]
  },
  {
   "cell_type": "code",
   "execution_count": 7,
   "metadata": {},
   "outputs": [
    {
     "name": "stdout",
     "output_type": "stream",
     "text": [
      "Help on function placeholder in module tensorflow.python.ops.array_ops:\n\nplaceholder(dtype, shape=None, name=None)\n    Inserts a placeholder for a tensor that will be always fed.\n    \n    **Important**: This tensor will produce an error if evaluated. Its value must\n    be fed using the `feed_dict` optional argument to `Session.run()`,\n    `Tensor.eval()`, or `Operation.run()`.\n    \n    For example:\n    \n    ```python\n    x = tf.placeholder(tf.float32, shape=(1024, 1024))\n    y = tf.matmul(x, x)\n    \n    with tf.Session() as sess:\n      print(sess.run(y))  # ERROR: will fail because x was not fed.\n    \n      rand_array = np.random.rand(1024, 1024)\n      print(sess.run(y, feed_dict={x: rand_array}))  # Will succeed.\n    ```\n    \n    @compatibility{eager} Placeholders are not compatible with eager execution.\n    \n    Args:\n      dtype: The type of elements in the tensor to be fed.\n      shape: The shape of the tensor to be fed (optional). If the shape is not\n        specified, you can feed a tensor of any shape.\n      name: A name for the operation (optional).\n    \n    Returns:\n      A `Tensor` that may be used as a handle for feeding a value, but not\n      evaluated directly.\n    \n    Raises:\n      RuntimeError: if eager execution is enabled\n\n"
     ]
    }
   ],
   "source": [
    "help(tf.placeholder)"
   ]
  },
  {
   "cell_type": "code",
   "execution_count": 8,
   "metadata": {},
   "outputs": [
    {
     "name": "stdout",
     "output_type": "stream",
     "text": [
      "Help on function shape in module tensorflow.python.ops.array_ops:\n\nshape(input, name=None, out_type=tf.int32)\n    Returns the shape of a tensor.\n    \n    This operation returns a 1-D integer tensor representing the shape of `input`.\n    \n    For example:\n    \n    ```python\n    t = tf.constant([[[1, 1, 1], [2, 2, 2]], [[3, 3, 3], [4, 4, 4]]])\n    tf.shape(t)  # [2, 2, 3]\n    ```\n    \n    Args:\n      input: A `Tensor` or `SparseTensor`.\n      name: A name for the operation (optional).\n      out_type: (Optional) The specified output type of the operation\n        (`int32` or `int64`). Defaults to `tf.int32`.\n    \n    Returns:\n      A `Tensor` of type `out_type`.\n\n"
     ]
    }
   ],
   "source": [
    "help(tf.shape)"
   ]
  },
  {
   "cell_type": "code",
   "execution_count": null,
   "metadata": {},
   "outputs": [],
   "source": []
  }
 ],
 "metadata": {
  "kernelspec": {
   "display_name": "Python 2",
   "language": "python",
   "name": "python2"
  },
  "language_info": {
   "codemirror_mode": {
    "name": "ipython",
    "version": 2
   },
   "file_extension": ".py",
   "mimetype": "text/x-python",
   "name": "python",
   "nbconvert_exporter": "python",
   "pygments_lexer": "ipython2",
   "version": "2.7.6"
  }
 },
 "nbformat": 4,
 "nbformat_minor": 0
}
