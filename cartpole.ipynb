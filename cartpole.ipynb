{
 "cells": [
  {
   "cell_type": "code",
   "execution_count": 1,
   "metadata": {
    "collapsed": true
   },
   "outputs": [],
   "source": [
    "import tensorflow as tf\n",
    "import tensorflow.contrib.slim as slim\n",
    "import numpy as np\n",
    "import gym"
   ]
  },
  {
   "cell_type": "markdown",
   "metadata": {},
   "source": [
    "* Head"
   ]
  },
  {
   "cell_type": "code",
   "execution_count": 2,
   "metadata": {},
   "outputs": [
    {
     "name": "stdout",
     "output_type": "stream",
     "text": [
      "Help on function range in module tensorflow.python.ops.math_ops:\n\nrange(start, limit=None, delta=1, dtype=None, name='range')\n    Creates a sequence of numbers.\n    \n    Creates a sequence of numbers that begins at `start` and extends by\n    increments of `delta` up to but not including `limit`.\n    \n    The dtype of the resulting tensor is inferred from the inputs unless\n    it is provided explicitly.\n    \n    Like the Python builtin `range`, `start` defaults to 0, so that\n    `range(n) = range(0, n)`.\n    \n    For example:\n    \n    ```python\n    start = 3\n    limit = 18\n    delta = 3\n    tf.range(start, limit, delta)  # [3, 6, 9, 12, 15]\n    \n    start = 3\n    limit = 1\n    delta = -0.5\n    tf.range(start, limit, delta)  # [3, 2.5, 2, 1.5]\n    \n    limit = 5\n    tf.range(limit)  # [0, 1, 2, 3, 4]\n    ```\n    \n    Args:\n      start: A 0-D `Tensor` (scalar). Acts as first entry in the range if\n        `limit` is not None; otherwise, acts as range limit and first entry\n        defaults to 0.\n      limit: A 0-D `Tensor` (scalar). Upper limit of sequence,\n        exclusive. If None, defaults to the value of `start` while the first\n        entry of the range defaults to 0.\n      delta: A 0-D `Tensor` (scalar). Number that increments\n        `start`. Defaults to 1.\n      dtype: The type of the elements of the resulting tensor.\n      name: A name for the operation. Defaults to \"range\".\n    \n    Returns:\n      An 1-D `Tensor` of type `dtype`.\n    \n    @compatibility(numpy)\n    Equivalent to np.arange\n    @end_compatibility\n\n"
     ]
    }
   ],
   "source": [
    "help(tf.range)"
   ]
  },
  {
   "cell_type": "code",
   "execution_count": null,
   "metadata": {},
   "outputs": [],
   "source": []
  }
 ],
 "metadata": {
  "kernelspec": {
   "display_name": "Python 2",
   "language": "python",
   "name": "python2"
  },
  "language_info": {
   "codemirror_mode": {
    "name": "ipython",
    "version": 2
   },
   "file_extension": ".py",
   "mimetype": "text/x-python",
   "name": "python",
   "nbconvert_exporter": "python",
   "pygments_lexer": "ipython2",
   "version": "2.7.6"
  }
 },
 "nbformat": 4,
 "nbformat_minor": 0
}
